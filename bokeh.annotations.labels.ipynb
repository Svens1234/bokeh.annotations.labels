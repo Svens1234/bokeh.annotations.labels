{
 "cells": [
  {
   "cell_type": "code",
   "execution_count": 10,
   "id": "36f74cf2",
   "metadata": {},
   "outputs": [],
   "source": [
    "from bokeh.models import ColumnDataSource, Label, LabelSet, Range1d\n",
    "from bokeh.plotting import figure, output_file, show"
   ]
  },
  {
   "cell_type": "code",
   "execution_count": 11,
   "id": "2b498ccd",
   "metadata": {},
   "outputs": [],
   "source": [
    "output_file(\"label.html\", title=\"label.py example\")\n",
    "\n",
    "source = ColumnDataSource(data=dict(height=[66, 71, 72, 68, 58, 62],\n",
    "                                    weight=[165, 189, 220, 141, 260, 174],\n",
    "                                    names=['Mark', 'Amir', 'Matt', 'Greg',\n",
    "                                           'Owen', 'Juan']))\n",
    "\n",
    "p = figure(title='Dist. of 10th Grade Students at Lee High',\n",
    "           x_range=Range1d(140, 275))\n",
    "p.scatter(x='weight', y='height', size=8, source=source)\n",
    "p.xaxis[0].axis_label = 'Weight (lbs)'\n",
    "p.yaxis[0].axis_label = 'Height (in)'\n",
    "\n",
    "labels = LabelSet(x='weight', y='height', text='names',\n",
    "              x_offset=5, y_offset=5, source=source, render_mode='canvas')\n",
    "\n",
    "citation = Label(x=70, y=70, x_units='screen', y_units='screen',\n",
    "                 text='Collected by Luke C. 2016-04-01', render_mode='css',\n",
    "                 border_line_color='black', border_line_alpha=1.0,\n",
    "                 background_fill_color='white', background_fill_alpha=1.0)\n",
    "\n",
    "p.add_layout(labels)\n",
    "p.add_layout(citation)\n",
    "\n",
    "show(p)"
   ]
  },
  {
   "cell_type": "code",
   "execution_count": null,
   "id": "84ac9778",
   "metadata": {},
   "outputs": [],
   "source": []
  }
 ],
 "metadata": {
  "kernelspec": {
   "display_name": "Python 3 (ipykernel)",
   "language": "python",
   "name": "python3"
  },
  "language_info": {
   "codemirror_mode": {
    "name": "ipython",
    "version": 3
   },
   "file_extension": ".py",
   "mimetype": "text/x-python",
   "name": "python",
   "nbconvert_exporter": "python",
   "pygments_lexer": "ipython3",
   "version": "3.10.5"
  }
 },
 "nbformat": 4,
 "nbformat_minor": 5
}
